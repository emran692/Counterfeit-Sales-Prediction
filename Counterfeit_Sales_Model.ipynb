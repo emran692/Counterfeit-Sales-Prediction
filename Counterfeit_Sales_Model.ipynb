{
 "cells": [
  {
   "cell_type": "code",
   "execution_count": 40,
   "id": "e6d5d75a-d92f-4e78-8dff-82b581ee5667",
   "metadata": {},
   "outputs": [
    {
     "name": "stdout",
     "output_type": "stream",
     "text": [
      "Collecting xgboost\n",
      "  Downloading xgboost-3.0.2-py3-none-win_amd64.whl.metadata (2.1 kB)\n",
      "Requirement already satisfied: numpy in c:\\users\\hp\\anaconda3\\lib\\site-packages (from xgboost) (1.26.4)\n",
      "Requirement already satisfied: scipy in c:\\users\\hp\\anaconda3\\lib\\site-packages (from xgboost) (1.13.1)\n",
      "Downloading xgboost-3.0.2-py3-none-win_amd64.whl (150.0 MB)\n",
      "   ---------------------------------------- 0.0/150.0 MB ? eta -:--:--\n",
      "   ---------------------------------------- 1.3/150.0 MB 8.4 MB/s eta 0:00:18\n",
      "    --------------------------------------- 3.1/150.0 MB 8.4 MB/s eta 0:00:18\n",
      "   - -------------------------------------- 6.6/150.0 MB 11.2 MB/s eta 0:00:13\n",
      "   -- ------------------------------------- 8.7/150.0 MB 11.0 MB/s eta 0:00:13\n",
      "   --- ------------------------------------ 11.3/150.0 MB 11.2 MB/s eta 0:00:13\n",
      "   --- ------------------------------------ 13.6/150.0 MB 11.3 MB/s eta 0:00:13\n",
      "   ---- ----------------------------------- 16.3/150.0 MB 11.4 MB/s eta 0:00:12\n",
      "   ----- ---------------------------------- 18.9/150.0 MB 11.5 MB/s eta 0:00:12\n",
      "   ----- ---------------------------------- 21.2/150.0 MB 11.5 MB/s eta 0:00:12\n",
      "   ------ --------------------------------- 23.9/150.0 MB 11.5 MB/s eta 0:00:11\n",
      "   ------ --------------------------------- 26.2/150.0 MB 11.5 MB/s eta 0:00:11\n",
      "   ------- -------------------------------- 28.8/150.0 MB 11.6 MB/s eta 0:00:11\n",
      "   -------- ------------------------------- 31.2/150.0 MB 11.6 MB/s eta 0:00:11\n",
      "   -------- ------------------------------- 33.3/150.0 MB 11.6 MB/s eta 0:00:11\n",
      "   --------- ------------------------------ 36.2/150.0 MB 11.6 MB/s eta 0:00:10\n",
      "   ---------- ----------------------------- 38.3/150.0 MB 11.4 MB/s eta 0:00:10\n",
      "   ---------- ----------------------------- 40.9/150.0 MB 11.6 MB/s eta 0:00:10\n",
      "   ----------- ---------------------------- 43.5/150.0 MB 11.6 MB/s eta 0:00:10\n",
      "   ------------ --------------------------- 46.1/150.0 MB 11.6 MB/s eta 0:00:09\n",
      "   ------------ --------------------------- 48.5/150.0 MB 11.5 MB/s eta 0:00:09\n",
      "   ------------- -------------------------- 50.3/150.0 MB 11.3 MB/s eta 0:00:09\n",
      "   ------------- -------------------------- 51.1/150.0 MB 11.1 MB/s eta 0:00:09\n",
      "   -------------- ------------------------- 52.7/150.0 MB 10.9 MB/s eta 0:00:09\n",
      "   -------------- ------------------------- 55.3/150.0 MB 10.9 MB/s eta 0:00:09\n",
      "   --------------- ------------------------ 57.7/150.0 MB 10.9 MB/s eta 0:00:09\n",
      "   --------------- ------------------------ 59.8/150.0 MB 10.9 MB/s eta 0:00:09\n",
      "   ---------------- ----------------------- 62.1/150.0 MB 10.8 MB/s eta 0:00:09\n",
      "   ----------------- ---------------------- 64.5/150.0 MB 10.8 MB/s eta 0:00:08\n",
      "   ----------------- ---------------------- 66.8/150.0 MB 10.8 MB/s eta 0:00:08\n",
      "   ------------------ --------------------- 69.5/150.0 MB 10.9 MB/s eta 0:00:08\n",
      "   ------------------- -------------------- 72.1/150.0 MB 10.9 MB/s eta 0:00:08\n",
      "   ------------------- -------------------- 74.4/150.0 MB 10.9 MB/s eta 0:00:07\n",
      "   -------------------- ------------------- 77.1/150.0 MB 10.9 MB/s eta 0:00:07\n",
      "   --------------------- ------------------ 79.4/150.0 MB 10.9 MB/s eta 0:00:07\n",
      "   --------------------- ------------------ 81.5/150.0 MB 10.9 MB/s eta 0:00:07\n",
      "   ---------------------- ----------------- 83.9/150.0 MB 11.0 MB/s eta 0:00:07\n",
      "   ----------------------- ---------------- 86.2/150.0 MB 11.0 MB/s eta 0:00:06\n",
      "   ----------------------- ---------------- 88.1/150.0 MB 10.9 MB/s eta 0:00:06\n",
      "   ----------------------- ---------------- 89.9/150.0 MB 10.9 MB/s eta 0:00:06\n",
      "   ------------------------ --------------- 91.8/150.0 MB 10.8 MB/s eta 0:00:06\n",
      "   ------------------------ --------------- 93.6/150.0 MB 10.8 MB/s eta 0:00:06\n",
      "   ------------------------- -------------- 95.7/150.0 MB 10.7 MB/s eta 0:00:06\n",
      "   -------------------------- ------------- 97.5/150.0 MB 10.7 MB/s eta 0:00:05\n",
      "   -------------------------- ------------- 99.4/150.0 MB 10.7 MB/s eta 0:00:05\n",
      "   -------------------------- ------------ 101.4/150.0 MB 10.6 MB/s eta 0:00:05\n",
      "   -------------------------- ------------ 103.5/150.0 MB 10.6 MB/s eta 0:00:05\n",
      "   --------------------------- ----------- 105.9/150.0 MB 10.6 MB/s eta 0:00:05\n",
      "   ---------------------------- ---------- 107.7/150.0 MB 10.6 MB/s eta 0:00:04\n",
      "   ---------------------------- ---------- 110.1/150.0 MB 10.6 MB/s eta 0:00:04\n",
      "   ----------------------------- --------- 112.2/150.0 MB 10.6 MB/s eta 0:00:04\n",
      "   ----------------------------- --------- 114.3/150.0 MB 10.6 MB/s eta 0:00:04\n",
      "   ------------------------------ -------- 115.9/150.0 MB 10.5 MB/s eta 0:00:04\n",
      "   ------------------------------ -------- 116.9/150.0 MB 10.4 MB/s eta 0:00:04\n",
      "   ------------------------------ -------- 118.0/150.0 MB 10.3 MB/s eta 0:00:04\n",
      "   ------------------------------- ------- 119.3/150.0 MB 10.2 MB/s eta 0:00:04\n",
      "   ------------------------------- ------- 120.6/150.0 MB 10.1 MB/s eta 0:00:03\n",
      "   ------------------------------- ------- 121.6/150.0 MB 10.1 MB/s eta 0:00:03\n",
      "   ------------------------------- ------- 122.9/150.0 MB 10.0 MB/s eta 0:00:03\n",
      "   --------------------------------- ------ 124.3/150.0 MB 9.9 MB/s eta 0:00:03\n",
      "   --------------------------------- ------ 125.6/150.0 MB 9.9 MB/s eta 0:00:03\n",
      "   --------------------------------- ------ 126.6/150.0 MB 9.8 MB/s eta 0:00:03\n",
      "   ---------------------------------- ----- 127.9/150.0 MB 9.7 MB/s eta 0:00:03\n",
      "   ---------------------------------- ----- 129.5/150.0 MB 9.6 MB/s eta 0:00:03\n",
      "   ---------------------------------- ----- 130.8/150.0 MB 9.6 MB/s eta 0:00:03\n",
      "   ----------------------------------- ---- 132.1/150.0 MB 9.5 MB/s eta 0:00:02\n",
      "   ----------------------------------- ---- 133.7/150.0 MB 9.5 MB/s eta 0:00:02\n",
      "   ------------------------------------ --- 135.3/150.0 MB 9.5 MB/s eta 0:00:02\n",
      "   ------------------------------------ --- 136.8/150.0 MB 9.4 MB/s eta 0:00:02\n",
      "   ------------------------------------ --- 138.4/150.0 MB 9.4 MB/s eta 0:00:02\n",
      "   ------------------------------------- -- 139.7/150.0 MB 9.3 MB/s eta 0:00:02\n",
      "   ------------------------------------- -- 141.0/150.0 MB 9.3 MB/s eta 0:00:01\n",
      "   ------------------------------------- -- 142.3/150.0 MB 9.3 MB/s eta 0:00:01\n",
      "   -------------------------------------- - 143.7/150.0 MB 9.2 MB/s eta 0:00:01\n",
      "   -------------------------------------- - 145.0/150.0 MB 9.2 MB/s eta 0:00:01\n",
      "   ---------------------------------------  146.3/150.0 MB 9.1 MB/s eta 0:00:01\n",
      "   ---------------------------------------  147.3/150.0 MB 9.1 MB/s eta 0:00:01\n",
      "   ---------------------------------------  148.4/150.0 MB 9.0 MB/s eta 0:00:01\n",
      "   ---------------------------------------  149.4/150.0 MB 9.0 MB/s eta 0:00:01\n",
      "   ---------------------------------------  149.9/150.0 MB 8.9 MB/s eta 0:00:01\n",
      "   ---------------------------------------  149.9/150.0 MB 8.9 MB/s eta 0:00:01\n",
      "   ---------------------------------------  149.9/150.0 MB 8.9 MB/s eta 0:00:01\n",
      "   ---------------------------------------  149.9/150.0 MB 8.9 MB/s eta 0:00:01\n",
      "   ---------------------------------------  149.9/150.0 MB 8.9 MB/s eta 0:00:01\n",
      "   ---------------------------------------- 150.0/150.0 MB 8.4 MB/s eta 0:00:00\n",
      "Installing collected packages: xgboost\n",
      "Successfully installed xgboost-3.0.2\n"
     ]
    }
   ],
   "source": [
    "!pip install xgboost"
   ]
  },
  {
   "cell_type": "code",
   "execution_count": 50,
   "id": "ae73bfc3-578e-48df-a987-adfa16e96fa8",
   "metadata": {},
   "outputs": [
    {
     "name": "stdout",
     "output_type": "stream",
     "text": [
      "['Medicine_ID', 'Counterfeit_Weight', 'DistArea_ID', 'Active_Since', 'Medicine_MRP', 'Medicine_Type', 'SidEffect_Level', 'Availability_rating', 'Area_Type', 'Area_City_Type', 'Area_dist_level', 'Counterfeit_Sales']\n"
     ]
    }
   ],
   "source": [
    "print(train.columns.tolist())\n"
   ]
  },
  {
   "cell_type": "code",
   "execution_count": 66,
   "id": "c8cd2c18-2b77-4731-8172-f5976d2d7f00",
   "metadata": {},
   "outputs": [
    {
     "name": "stdout",
     "output_type": "stream",
     "text": [
      "Final MAE: 780.6362558182971\n",
      "Final Score (1 - MAE/1660): 0.5297371952901825\n",
      "Submission file 'Md_Al_Emran_Attempt1.csv' created successfully.\n"
     ]
    }
   ],
   "source": [
    "import pandas as pd\n",
    "import numpy as np\n",
    "from sklearn.model_selection import train_test_split\n",
    "from sklearn.metrics import mean_absolute_error\n",
    "import xgboost as xgb\n",
    "\n",
    "# Step 1: Load data\n",
    "train = pd.read_csv(\"counterfeit_train (1).csv\")\n",
    "test = pd.read_csv(\"counterfeit_test.csv\")\n",
    "\n",
    "# Step 2: Fill missing values\n",
    "train['Counterfeit_Weight'] = train['Counterfeit_Weight'].fillna(train['Counterfeit_Weight'].mean())\n",
    "test['Counterfeit_Weight'] = test['Counterfeit_Weight'].fillna(test['Counterfeit_Weight'].mean())\n",
    "\n",
    "# Step 3: Feature engineering\n",
    "def engineer_features(df):\n",
    "    df['Years_Active'] = 2025 - df['Active_Since']\n",
    "    df['Availability_rating'] = pd.to_numeric(df['Availability_rating'], errors='coerce')\n",
    "    df['SidEffect_Level'] = pd.to_numeric(df['SidEffect_Level'], errors='coerce')\n",
    "    df['MRP_Availability_Index'] = df['Medicine_MRP'] * df['Availability_rating']\n",
    "    df['MRP_SideEffect_Index'] = df['Medicine_MRP'] * df['SidEffect_Level']\n",
    "    df['DistArea_Category_Code'] = df['DistArea_ID'].str.extract(r'(\\d+)', expand=False).fillna(0).astype(int)\n",
    "    return df\n",
    "\n",
    "train = engineer_features(train)\n",
    "test = engineer_features(test)\n",
    "\n",
    "# Step 4: Encode categorical variables\n",
    "cat_cols = [col for col in ['Area_Type', 'Area_City_Type', 'Medicine_Type'] if col in train.columns]\n",
    "train_encoded = pd.get_dummies(train.drop(['Medicine_ID'], axis=1), columns=cat_cols)\n",
    "test_encoded = pd.get_dummies(test.drop(['Medicine_ID'], axis=1), columns=cat_cols)\n",
    "\n",
    "# Step 5: Align features\n",
    "X = train_encoded.drop('Counterfeit_Sales', axis=1)\n",
    "y = np.log1p(train_encoded['Counterfeit_Sales'])\n",
    "\n",
    "X, X_test = X.align(test_encoded, join='left', axis=1, fill_value=0)\n",
    "X = X.select_dtypes(include='number')\n",
    "X_test = X_test.select_dtypes(include='number')\n",
    "X = X.fillna(X.mean())\n",
    "X_test = X_test.fillna(X.mean())\n",
    "\n",
    "# Step 6: Train-validation split\n",
    "X_train, X_val, y_train, y_val = train_test_split(X, y, test_size=0.2, random_state=42)\n",
    "\n",
    "# Step 7: Train model\n",
    "xgb_model = xgb.XGBRegressor(\n",
    "    n_estimators=500,\n",
    "    learning_rate=0.05,\n",
    "    max_depth=5,\n",
    "    subsample=0.8,\n",
    "    colsample_bytree=0.8,\n",
    "    random_state=42\n",
    ")\n",
    "xgb_model.fit(X_train, y_train)\n",
    "\n",
    "# Step 8: Evaluate\n",
    "val_preds_log = xgb_model.predict(X_val)\n",
    "val_preds = np.expm1(val_preds_log)\n",
    "true_vals = np.expm1(y_val)\n",
    "\n",
    "mae = mean_absolute_error(true_vals, val_preds)\n",
    "score = 1 - (mae / 1660)\n",
    "\n",
    "print(\"Final MAE:\", mae)\n",
    "print(\"Final Score (1 - MAE/1660):\", score)\n",
    "\n",
    "# Step 9: Train on full data\n",
    "xgb_model.fit(X, y)\n",
    "test_preds = np.expm1(xgb_model.predict(X_test))\n",
    "\n",
    "# Step 10: Create submission file\n",
    "submission = pd.DataFrame({\n",
    "    'Medicine_ID': test['Medicine_ID'],\n",
    "    'Counterfeit_Sales': test_preds\n",
    "})\n",
    "submission.to_csv(\"Md_Al_Emran_Attempt1.csv\", index=False)\n",
    "print(\"Submission file 'Md_Al_Emran_Attempt1.csv' created successfully.\")\n"
   ]
  },
  {
   "cell_type": "code",
   "execution_count": 67,
   "id": "328c5953-c845-4691-bcd1-7f31ed02f176",
   "metadata": {},
   "outputs": [
    {
     "name": "stdout",
     "output_type": "stream",
     "text": [
      "Note: you may need to restart the kernel to use updated packages.\n"
     ]
    }
   ],
   "source": [
    "pip freeze > requirements.txt\n"
   ]
  },
  {
   "cell_type": "code",
   "execution_count": null,
   "id": "1b152bdf-96a7-4d9d-a8ee-8748012acabc",
   "metadata": {},
   "outputs": [],
   "source": []
  }
 ],
 "metadata": {
  "kernelspec": {
   "display_name": "Python [conda env:base] *",
   "language": "python",
   "name": "conda-base-py"
  },
  "language_info": {
   "codemirror_mode": {
    "name": "ipython",
    "version": 3
   },
   "file_extension": ".py",
   "mimetype": "text/x-python",
   "name": "python",
   "nbconvert_exporter": "python",
   "pygments_lexer": "ipython3",
   "version": "3.12.7"
  }
 },
 "nbformat": 4,
 "nbformat_minor": 5
}
